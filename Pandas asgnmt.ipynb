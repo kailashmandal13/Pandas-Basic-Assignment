{
 "cells": [
  {
   "cell_type": "code",
   "execution_count": 7,
   "id": "8c3e0864-8db8-4fb5-a3dd-4f6de92a8d4b",
   "metadata": {
    "tags": []
   },
   "outputs": [
    {
     "name": "stdout",
     "output_type": "stream",
     "text": [
      "0     4\n",
      "1     8\n",
      "2    15\n",
      "3    16\n",
      "4    23\n",
      "5    42\n",
      "dtype: int64\n",
      "<class 'pandas.core.series.Series'>\n"
     ]
    }
   ],
   "source": [
    "# Q1. Create a Pandas Series that contains the following data: 4, 8, 15, 16, 23, and 42. Then, print the series.\n",
    "\n",
    "import pandas as pd\n",
    "data = [4,8,15,16,23,42]\n",
    "df = pd.Series(data)\n",
    "print(df)\n",
    "print(type(df))"
   ]
  },
  {
   "cell_type": "code",
   "execution_count": 19,
   "id": "197c445c-4e02-4d3d-9a99-fdb1d1413c3c",
   "metadata": {
    "tags": []
   },
   "outputs": [
    {
     "name": "stdin",
     "output_type": "stream",
     "text": [
      "enter 10 elements in the list:  hello\n",
      "enter 10 elements in the list:  my\n",
      "enter 10 elements in the list:  name\n",
      "enter 10 elements in the list:  is \n",
      "enter 10 elements in the list:  sheela,\n",
      "enter 10 elements in the list:  1234\n",
      "enter 10 elements in the list:  001\n",
      "enter 10 elements in the list:  0\n",
      "enter 10 elements in the list:  -99\n",
      "enter 10 elements in the list:  12ka4\n",
      "enter 10 elements in the list:  lastwala\n"
     ]
    },
    {
     "name": "stdout",
     "output_type": "stream",
     "text": [
      "0        hello\n",
      "1           my\n",
      "2         name\n",
      "3          is \n",
      "4      sheela,\n",
      "5         1234\n",
      "6          001\n",
      "7            0\n",
      "8          -99\n",
      "9        12ka4\n",
      "10    lastwala\n",
      "dtype: object\n"
     ]
    }
   ],
   "source": [
    "# Q2. Create a variable of list type containing 10 elements in it, and apply pandas.Series function on the variable print it.\n",
    "\n",
    "data_list = []\n",
    "for data in range(11):\n",
    "    data_list.append(input(\"enter 10 elements in the list: \"))\n",
    "\n",
    "df2 = pd.Series(data_list)\n",
    "print(df2)\n",
    "\n"
   ]
  },
  {
   "cell_type": "code",
   "execution_count": 21,
   "id": "162e2d7b-6b93-4cdb-9b7b-a2389e72d302",
   "metadata": {
    "tags": []
   },
   "outputs": [
    {
     "name": "stdout",
     "output_type": "stream",
     "text": [
      "     Name  Age  Gender\n",
      "0   Alice   25  Female\n",
      "1     Bob   30    Male\n",
      "2  Claire   27  Female\n"
     ]
    }
   ],
   "source": [
    "#Q3. Create a Pandas DataFrame that contains the following data & print it\n",
    "\n",
    "\n",
    "data2 = {'Name': ['Alice', 'Bob', 'Claire'],\n",
    "        'Age': [25, 30, 27],\n",
    "        'Gender': ['Female', 'Male', 'Female']}\n",
    "\n",
    "df4 = pd.DataFrame(data2)\n",
    "print(df4)"
   ]
  },
  {
   "cell_type": "raw",
   "id": "d600f4e1-4de4-4115-b43b-8471b573c3ff",
   "metadata": {},
   "source": [
    "# Q4. What is ‘DataFrame’ in pandas and how is it different from pandas.series? Explain with an example.\n",
    "\n",
    "DataFrame is a two-dimensional labeled data structure resembling a spreadsheet or SQL table, consisting of rows and columns.\n",
    "eg- \n",
    "#Creating a DataFrame\n",
    "    data = {'Name': ['Alice', 'Bob', 'Charlie'],\n",
    "            'Age': [25, 30, 35],\n",
    "            'Gender': ['Female', 'Male', 'Male']}\n",
    "    df = pd.DataFrame(data)\n",
    "\n",
    "# Displaying the DataFrame\n",
    "    print(\"DataFrame:\")\n",
    "    print(df)\n",
    "\n",
    "\n",
    "Series is a one-dimensional labeled array capable of holding data of any type.\n",
    "eg- \n",
    "# Creating a Series\n",
    "ages_series = pd.Series([25, 30, 35], name='Age')\n",
    "\n",
    "# Displaying the Series\n",
    "print(\"\\nSeries:\")\n",
    "print(ages_series)\n"
   ]
  },
  {
   "cell_type": "raw",
   "id": "c9480ab4-ac79-4937-8e36-c50f16505181",
   "metadata": {
    "tags": []
   },
   "source": [
    "# Q5. What are some common functions you can use to manipulate data in a Pandas DataFrame? Can you give an example of when you might use one of these functions?\n",
    "\n",
    "There are many functions available in Pandas to manipulate data in a DataFrame. Some common ones include:\n",
    "\n",
    "1. `head()` and `tail()`: These functions allow you to view the first or last few rows of your DataFrame, respectively. They are useful for quickly inspecting the structure and content of your data.\n",
    "\n",
    "2. `info()`: Provides a concise summary of the DataFrame including the index dtype and column dtypes, non-null values, and memory usage. It's useful for understanding the data types and missing values in your DataFrame.\n",
    "\n",
    "3. `describe()`: Generates descriptive statistics of the numerical columns in the DataFrame, such as count, mean, standard deviation, minimum, and maximum. It provides a quick overview of the distribution of numerical data.\n",
    "\n",
    "4. `iloc[]` and `loc[]`: These are used for selection and slicing of rows and columns by index and label, respectively. `iloc[]` is integer-location based indexing, while `loc[]` is label-based indexing.\n",
    "\n",
    "5. `dropna()`: Removes rows or columns with missing values (NaN). It's useful for cleaning up your data by removing incomplete or irrelevant rows or columns.\n",
    "\n",
    "6. `fillna()`: Fills missing values (NaN) with specified values. This function is helpful for handling missing data by imputing values based on different strategies such as mean, median, or a constant value.\n",
    "\n",
    "7. `groupby()`: Allows you to group DataFrame rows based on one or more columns and perform aggregation functions on the grouped data. It's useful for performing operations on subsets of data.\n",
    "\n",
    "8. `merge()` and `join()`: These functions are used to combine two DataFrames based on one or more keys. They are useful for integrating data from different sources or performing relational operations.\n",
    "\n",
    "9. `apply()`: Applies a function along an axis of the DataFrame. It's useful for applying custom or built-in functions to each element, row, or column of the DataFrame.\n",
    "\n",
    "10. `sort_values()` and `sort_index()`: These functions are used to sort the DataFrame by values or index labels, respectively. They are helpful for arranging data in a desired order.\n"
   ]
  },
  {
   "cell_type": "raw",
   "id": "2381b094-740b-4be5-8bb3-0cab85a34d62",
   "metadata": {},
   "source": [
    "# Q6. Which of the following is mutable in nature Series, DataFrame, Panel?\n",
    "\n",
    "DataFrame is the mutable object, meaning it can be modified after creation.\n",
    "Series and Panel are immutable in nature. Once created, their content cannot be changed without creating a new object."
   ]
  },
  {
   "cell_type": "code",
   "execution_count": 31,
   "id": "13a9f4f5-de9e-4d63-b1dd-bde916ad9d18",
   "metadata": {
    "tags": []
   },
   "outputs": [
    {
     "name": "stdout",
     "output_type": "stream",
     "text": [
      "THE DATAFRAME IS:\n",
      "\n",
      "       Name Deapartment  Marks\n",
      "0    Aisha         CSA     95\n",
      "1     Boby          AI     80\n",
      "2  Chandan         CDS     83\n",
      "3   Devika         CSA     68\n",
      "4  Kailash         CSA     89\n"
     ]
    }
   ],
   "source": [
    "# Q7. Create a DataFrame using multiple Series. Explain with an example.\n",
    "\n",
    "\n",
    "names = pd.Series(['Aisha', 'Boby', 'Chandan', 'Devika', 'Kailash'])\n",
    "marks = pd.Series([95, 80, 83, 68, 89])\n",
    "dept = pd.Series(['CSA', 'AI', 'CDS', 'CSA', 'CSA'])\n",
    "\n",
    "# Creating DataFrame using multiple Series\n",
    "df = pd.DataFrame({'Name': names, 'Deapartment': dept, 'Marks': marks})\n",
    "\n",
    "print(\"THE DATAFRAME IS:\\n\\n\", df)\n"
   ]
  },
  {
   "cell_type": "code",
   "execution_count": null,
   "id": "f79d4d9f-1a47-439b-8efb-d229eb53b3e0",
   "metadata": {},
   "outputs": [],
   "source": []
  }
 ],
 "metadata": {
  "kernelspec": {
   "display_name": "Python 3 (ipykernel)",
   "language": "python",
   "name": "python3"
  },
  "language_info": {
   "codemirror_mode": {
    "name": "ipython",
    "version": 3
   },
   "file_extension": ".py",
   "mimetype": "text/x-python",
   "name": "python",
   "nbconvert_exporter": "python",
   "pygments_lexer": "ipython3",
   "version": "3.11.5"
  }
 },
 "nbformat": 4,
 "nbformat_minor": 5
}
